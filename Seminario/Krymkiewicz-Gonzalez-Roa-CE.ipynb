{
 "cells": [
  {
   "cell_type": "markdown",
   "id": "94748fb4",
   "metadata": {},
   "source": [
    "# TP 01\n",
    "\n",
    "El dataset fue extraído del siguiente link: https://www.kaggle.com/datasets/cherngs/heart-disease-cleveland-uci"
   ]
  },
  {
   "cell_type": "code",
   "execution_count": null,
   "id": "938a71de",
   "metadata": {},
   "outputs": [],
   "source": []
  },
  {
   "cell_type": "markdown",
   "id": "97327e72",
   "metadata": {},
   "source": [
    "### Problema de Clasificación:\n",
    "El problema que tenemos con este dataset es saber si la persona en cuestión tiene o no una enfermedad cardíaca. Esto es de clasificación binaria ya que puede ser 0 (no tiene) o 1 (tiene)."
   ]
  },
  {
   "cell_type": "markdown",
   "id": "a0217d0f",
   "metadata": {},
   "source": [
    "### Descripción y Exploración del Dataset\n",
    "\n",
    "El dataset contiene 13 atributos, algunos numéricos y otros categóricos, como la edad y el género, entre otras y el target, es decir, el resultado: si tiene o no esta persona una enfermedad. A continuación la exploración."
   ]
  },
  {
   "cell_type": "code",
   "execution_count": null,
   "id": "7e84bf22",
   "metadata": {},
   "outputs": [],
   "source": []
  }
 ],
 "metadata": {
  "kernelspec": {
   "display_name": "Python 3",
   "language": "python",
   "name": "python3"
  },
  "language_info": {
   "name": "python",
   "version": "3.12.5"
  }
 },
 "nbformat": 4,
 "nbformat_minor": 5
}
