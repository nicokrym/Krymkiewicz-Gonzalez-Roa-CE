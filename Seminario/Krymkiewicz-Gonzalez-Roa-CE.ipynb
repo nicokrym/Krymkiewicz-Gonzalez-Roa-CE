{
 "cells": [
  {
   "cell_type": "markdown",
   "id": "94748fb4",
   "metadata": {},
   "source": [
    "# TP 01\n",
    "\n",
    "El dataset fue extraído del siguiente link: https://www.kaggle.com/datasets/cherngs/heart-disease-cleveland-uci"
   ]
  },
  {
   "cell_type": "code",
   "execution_count": 1,
   "id": "938a71de",
   "metadata": {},
   "outputs": [],
   "source": [
    "import pandas as pd\n",
    "\n",
    "dataset = pd.read_csv(\"./datos/heart_cleveland_upload.csv\")"
   ]
  },
  {
   "cell_type": "markdown",
   "id": "97327e72",
   "metadata": {},
   "source": [
    "### Problema de Clasificación:\n",
    "El problema que tenemos con este dataset es saber si la persona en cuestión tiene o no una enfermedad cardíaca. Esto es de clasificación binaria ya que puede ser 0 (no tiene) o 1 (tiene)."
   ]
  },
  {
   "cell_type": "markdown",
   "id": "a0217d0f",
   "metadata": {},
   "source": [
    "### Descripción y Exploración del Dataset\n",
    "\n",
    "El dataset contiene 13 atributos, algunos numéricos y otros categóricos, como la edad y el género, entre otras y el target, es decir, el resultado: si tiene o no esta persona una enfermedad. A continuación la exploración para ver que columnas tenemos."
   ]
  },
  {
   "cell_type": "code",
   "execution_count": 10,
   "id": "7e84bf22",
   "metadata": {},
   "outputs": [
    {
     "data": {
      "text/html": [
       "<div>\n",
       "<style scoped>\n",
       "    .dataframe tbody tr th:only-of-type {\n",
       "        vertical-align: middle;\n",
       "    }\n",
       "\n",
       "    .dataframe tbody tr th {\n",
       "        vertical-align: top;\n",
       "    }\n",
       "\n",
       "    .dataframe thead th {\n",
       "        text-align: right;\n",
       "    }\n",
       "</style>\n",
       "<table border=\"1\" class=\"dataframe\">\n",
       "  <thead>\n",
       "    <tr style=\"text-align: right;\">\n",
       "      <th></th>\n",
       "      <th>age</th>\n",
       "      <th>sex</th>\n",
       "      <th>cp</th>\n",
       "      <th>trestbps</th>\n",
       "      <th>chol</th>\n",
       "      <th>fbs</th>\n",
       "      <th>restecg</th>\n",
       "      <th>thalach</th>\n",
       "      <th>exang</th>\n",
       "      <th>oldpeak</th>\n",
       "      <th>slope</th>\n",
       "      <th>ca</th>\n",
       "      <th>thal</th>\n",
       "      <th>condition</th>\n",
       "    </tr>\n",
       "  </thead>\n",
       "  <tbody>\n",
       "    <tr>\n",
       "      <th>0</th>\n",
       "      <td>69</td>\n",
       "      <td>1</td>\n",
       "      <td>0</td>\n",
       "      <td>160</td>\n",
       "      <td>234</td>\n",
       "      <td>1</td>\n",
       "      <td>2</td>\n",
       "      <td>131</td>\n",
       "      <td>0</td>\n",
       "      <td>0.1</td>\n",
       "      <td>1</td>\n",
       "      <td>1</td>\n",
       "      <td>0</td>\n",
       "      <td>0</td>\n",
       "    </tr>\n",
       "    <tr>\n",
       "      <th>1</th>\n",
       "      <td>69</td>\n",
       "      <td>0</td>\n",
       "      <td>0</td>\n",
       "      <td>140</td>\n",
       "      <td>239</td>\n",
       "      <td>0</td>\n",
       "      <td>0</td>\n",
       "      <td>151</td>\n",
       "      <td>0</td>\n",
       "      <td>1.8</td>\n",
       "      <td>0</td>\n",
       "      <td>2</td>\n",
       "      <td>0</td>\n",
       "      <td>0</td>\n",
       "    </tr>\n",
       "    <tr>\n",
       "      <th>2</th>\n",
       "      <td>66</td>\n",
       "      <td>0</td>\n",
       "      <td>0</td>\n",
       "      <td>150</td>\n",
       "      <td>226</td>\n",
       "      <td>0</td>\n",
       "      <td>0</td>\n",
       "      <td>114</td>\n",
       "      <td>0</td>\n",
       "      <td>2.6</td>\n",
       "      <td>2</td>\n",
       "      <td>0</td>\n",
       "      <td>0</td>\n",
       "      <td>0</td>\n",
       "    </tr>\n",
       "    <tr>\n",
       "      <th>3</th>\n",
       "      <td>65</td>\n",
       "      <td>1</td>\n",
       "      <td>0</td>\n",
       "      <td>138</td>\n",
       "      <td>282</td>\n",
       "      <td>1</td>\n",
       "      <td>2</td>\n",
       "      <td>174</td>\n",
       "      <td>0</td>\n",
       "      <td>1.4</td>\n",
       "      <td>1</td>\n",
       "      <td>1</td>\n",
       "      <td>0</td>\n",
       "      <td>1</td>\n",
       "    </tr>\n",
       "    <tr>\n",
       "      <th>4</th>\n",
       "      <td>64</td>\n",
       "      <td>1</td>\n",
       "      <td>0</td>\n",
       "      <td>110</td>\n",
       "      <td>211</td>\n",
       "      <td>0</td>\n",
       "      <td>2</td>\n",
       "      <td>144</td>\n",
       "      <td>1</td>\n",
       "      <td>1.8</td>\n",
       "      <td>1</td>\n",
       "      <td>0</td>\n",
       "      <td>0</td>\n",
       "      <td>0</td>\n",
       "    </tr>\n",
       "  </tbody>\n",
       "</table>\n",
       "</div>"
      ],
      "text/plain": [
       "   age  sex  cp  trestbps  chol  fbs  restecg  thalach  exang  oldpeak  slope  \\\n",
       "0   69    1   0       160   234    1        2      131      0      0.1      1   \n",
       "1   69    0   0       140   239    0        0      151      0      1.8      0   \n",
       "2   66    0   0       150   226    0        0      114      0      2.6      2   \n",
       "3   65    1   0       138   282    1        2      174      0      1.4      1   \n",
       "4   64    1   0       110   211    0        2      144      1      1.8      1   \n",
       "\n",
       "   ca  thal  condition  \n",
       "0   1     0          0  \n",
       "1   2     0          0  \n",
       "2   0     0          0  \n",
       "3   1     0          1  \n",
       "4   0     0          0  "
      ]
     },
     "execution_count": 10,
     "metadata": {},
     "output_type": "execute_result"
    }
   ],
   "source": [
    "dataset.head()"
   ]
  },
  {
   "cell_type": "markdown",
   "id": "c575b340",
   "metadata": {},
   "source": [
    "Podemos ver las 13 columnas con los distintos tipos de datos"
   ]
  },
  {
   "cell_type": "markdown",
   "id": "777f39c7",
   "metadata": {},
   "source": [
    "### Primer Modelo: Regresión Logística para Clasificación (Atributos Numéricos Continuos)"
   ]
  },
  {
   "cell_type": "markdown",
   "id": "39955332",
   "metadata": {},
   "source": [
    "Primero importamos lo necesitado para splitear el dataset, armar el modelo y evaluarlo. Establecemos cuales son las columnas numéricas y las definimos como X. Y es el target, condition en el dataset. Spliteamos en x train, y train, x test e y test el dataset. Hacemos el modelo de logistic regression y lo usamos en el train. Predecimos el test. Vemos accuracy, precision, recall y matriz de confusión."
   ]
  },
  {
   "cell_type": "code",
   "execution_count": null,
   "id": "ad65f142",
   "metadata": {},
   "outputs": [
    {
     "name": "stdout",
     "output_type": "stream",
     "text": [
      "Accuracy:  0.7000\n",
      "Precision: 0.6829\n",
      "Recall:    0.6667\n",
      "Matriz:\n",
      "[[35 13]\n",
      " [14 28]]\n"
     ]
    }
   ],
   "source": [
    "from sklearn.model_selection import train_test_split\n",
    "from sklearn.linear_model import LogisticRegression\n",
    "from sklearn.metrics import accuracy_score, precision_score, recall_score\n",
    "from sklearn.metrics import confusion_matrix\n",
    "\n",
    "columnas_numericas = ['age', 'trestbps', 'chol', 'thalach', 'oldpeak']\n",
    "\n",
    "X = dataset[columnas_numericas]\n",
    "Y = dataset['condition']\n",
    "\n",
    "X_train, X_test, Y_train, Y_test = train_test_split(X, Y, test_size=0.3, random_state=42)\n",
    "\n",
    "modelo01 = LogisticRegression()\n",
    "modelo01.fit(X_train, Y_train)\n",
    "pred01 = modelo01.predict(X_test)\n",
    "\n",
    "accuracy01 = accuracy_score(Y_test, pred01)\n",
    "precision01 = precision_score(Y_test, pred01, pos_label=1)\n",
    "recall01 = recall_score(Y_test, pred01, pos_label=1)\n",
    "matriz01 = confusion_matrix(Y_test, pred01)\n",
    "\n",
    "print(f\"Accuracy:  {accuracy01:.4f}\")\n",
    "print(f\"Precision: {precision01:.4f}\")\n",
    "print(f\"Recall:    {recall01:.4f}\")\n",
    "print(\"Matriz:\")\n",
    "print(matriz01)"
   ]
  },
  {
   "cell_type": "markdown",
   "id": "03b11bad",
   "metadata": {},
   "source": [
    "### Segundo Modelo: Árbol de Decisión (Atributos Numéricos Continuos)"
   ]
  },
  {
   "cell_type": "markdown",
   "id": "58cea3d6",
   "metadata": {},
   "source": [
    "Primero importamos lo necesitado para splitear el dataset, armar el modelo y evaluarlo. Establecemos cuales son las columnas numéricas y las definimos como X. Y es el target, condition en el dataset. Spliteamos en x train, y train, x test e y test el dataset. Buscamos el mejor depth (nos va a servir para el modelo, pero también para poder graficar después). Hacemos el árbol con la max depth que encontramos antes como la mejor o más óptima y lo usamos en el train. Predecimos el test. Vemos accuracy, precision, recall, matriz de confusión y la curva de la accuracy para train y test en función de la profundidad del árbol."
   ]
  },
  {
   "cell_type": "code",
   "execution_count": 49,
   "id": "5bffc887",
   "metadata": {},
   "outputs": [
    {
     "name": "stdout",
     "output_type": "stream",
     "text": [
      "Accuracy:  0.7111\n",
      "Precision: 0.6905\n",
      "Recall:    0.6905\n",
      "Matriz:\n",
      "[[35 13]\n",
      " [13 29]]\n"
     ]
    },
    {
     "data": {
      "image/png": "[encoded data removed]",
      "text/plain": [
       "<Figure size 900x500 with 1 Axes>"
      ]
     },
     "metadata": {},
     "output_type": "display_data"
    },
    {
     "name": "stdout",
     "output_type": "stream",
     "text": [
      "\n",
      "La mejor depth encontrada es: 4\n"
     ]
    }
   ],
   "source": [
    "from sklearn.model_selection import train_test_split\n",
    "from sklearn.tree import DecisionTreeClassifier\n",
    "from sklearn.metrics import accuracy_score, precision_score, recall_score\n",
    "from sklearn.metrics import confusion_matrix\n",
    "import matplotlib.pyplot as plt\n",
    "import numpy as np\n",
    "\n",
    "columnas_numericas = ['age', 'trestbps', 'chol', 'thalach', 'oldpeak']\n",
    "\n",
    "X = dataset[columnas_numericas]\n",
    "Y = dataset['condition']\n",
    "\n",
    "X_train, X_test, Y_train, Y_test = train_test_split(X, Y, test_size=0.3, random_state=42)\n",
    "\n",
    "depths = np.arange(1,21)\n",
    "train_accuracy = []\n",
    "test_accuracy = []\n",
    "mejor_accuracy = 0\n",
    "mejor_depth = 0\n",
    "\n",
    "for depth in depths:\n",
    "    modelo_busqueda = DecisionTreeClassifier(max_depth=depth, random_state=42)\n",
    "    modelo_busqueda.fit(X_train, Y_train)\n",
    "\n",
    "    pred_busqueda_test = modelo_busqueda.predict(X_test)\n",
    "    nuevo_accuracy = accuracy_score(Y_test, pred_busqueda_test)\n",
    "    test_accuracy.append(nuevo_accuracy)\n",
    "\n",
    "    if nuevo_accuracy > mejor_accuracy:\n",
    "        mejor_accuracy = nuevo_accuracy\n",
    "        mejor_depth = depth\n",
    "    \n",
    "    pred_busqueda_train = modelo_busqueda.predict(X_train)\n",
    "    train_accuracy.append(accuracy_score(Y_train, pred_busqueda_train))\n",
    "\n",
    "modelo02 = DecisionTreeClassifier(max_depth=mejor_depth, random_state=42)\n",
    "modelo02.fit(X_train, Y_train)\n",
    "pred02 = modelo02.predict(X_test)\n",
    "\n",
    "accuracy02 = accuracy_score(Y_test, pred02)\n",
    "precision02 = precision_score(Y_test, pred02, pos_label=1)\n",
    "recall02 = recall_score(Y_test, pred02, pos_label=1)\n",
    "matriz02 = confusion_matrix(Y_test, pred02)\n",
    "\n",
    "print(f\"Accuracy:  {accuracy02:.4f}\")\n",
    "print(f\"Precision: {precision02:.4f}\")\n",
    "print(f\"Recall:    {recall02:.4f}\")\n",
    "print(\"Matriz:\")\n",
    "print(matriz02)\n",
    "plt.figure(figsize=(9, 5))\n",
    "plt.plot(depths, train_accuracy, label='Accuracy en Entrenamiento', marker='o')\n",
    "plt.plot(depths, test_accuracy, label='Accuracy en Prueba', marker='o')\n",
    "plt.axvline(x=mejor_depth, color='r', linestyle='--', label=f'Óptimo: {mejor_depth}')\n",
    "plt.title('Curva de Accuracy vs. Profundidad del Árbol de Decisión')\n",
    "plt.xlabel('Profundidad del Árbol (max_depth)')\n",
    "plt.ylabel('Accuracy')\n",
    "plt.xticks(depths)\n",
    "plt.legend()\n",
    "plt.grid(True)\n",
    "plt.show()\n",
    "print(f\"\\nLa mejor depth encontrada es: {mejor_depth}\")"
   ]
  },
  {
   "cell_type": "markdown",
   "id": "39c3efa2",
   "metadata": {},
   "source": [
    "### Tercer Modelo: Regresión Logística para Clasificación (Todos los Atributos)"
   ]
  },
  {
   "cell_type": "markdown",
   "id": "30209fe3",
   "metadata": {},
   "source": [
    "Primero importamos lo necesitado para splitear el dataset, armar el modelo y evaluarlo. Usamos one hot encoding para poder usar los atributos que no sean numéricos continuos. Establecemos X e Y. Spliteamos en x train, y train, x test e y test el dataset. Hacemos el modelo de logistic regression y lo usamos en el train. Predecimos el test. Vemos accuracy, precision, recall y matriz de confusión."
   ]
  },
  {
   "cell_type": "code",
   "execution_count": 46,
   "id": "0a09a231",
   "metadata": {},
   "outputs": [
    {
     "name": "stdout",
     "output_type": "stream",
     "text": [
      "Accuracy:  0.8333\n",
      "Precision: 0.7872\n",
      "Recall:    0.8810\n",
      "Matriz:\n",
      "[[38 10]\n",
      " [ 5 37]]\n"
     ]
    }
   ],
   "source": [
    "from sklearn.model_selection import train_test_split\n",
    "from sklearn.linear_model import LogisticRegression\n",
    "from sklearn.metrics import accuracy_score, precision_score, recall_score\n",
    "from sklearn.metrics import confusion_matrix\n",
    "\n",
    "dataset_encoded = pd.get_dummies(dataset, columns=[\"sex\", \"cp\", \"fbs\", \"restecg\", \"exang\", \"slope\", \"ca\", \"thal\"], dtype=int)\n",
    "\n",
    "X = dataset_encoded.drop(columns=['condition'])\n",
    "Y = dataset_encoded['condition']\n",
    "\n",
    "X_train, X_test, Y_train, Y_test = train_test_split(X, Y, test_size=0.3, random_state=42)\n",
    "\n",
    "modelo03 = LogisticRegression(max_iter=2000)\n",
    "modelo03.fit(X_train, Y_train)\n",
    "pred03 = modelo03.predict(X_test)\n",
    "\n",
    "accuracy03 = accuracy_score(Y_test, pred03)\n",
    "precision03 = precision_score(Y_test, pred03, pos_label=1)\n",
    "recall03 = recall_score(Y_test, pred03, pos_label=1)\n",
    "matriz03 = confusion_matrix(Y_test, pred03)\n",
    "\n",
    "print(f\"Accuracy:  {accuracy03:.4f}\")\n",
    "print(f\"Precision: {precision03:.4f}\")\n",
    "print(f\"Recall:    {recall03:.4f}\")\n",
    "print(\"Matriz:\")\n",
    "print(matriz03)"
   ]
  },
  {
   "cell_type": "markdown",
   "id": "2e1bf662",
   "metadata": {},
   "source": [
    "### Cuarto Modelo: Árbol de Decisión (Todos los Atributos)"
   ]
  },
  {
   "cell_type": "markdown",
   "id": "f74860c6",
   "metadata": {},
   "source": [
    "Primero importamos lo necesitado para splitear el dataset, buscar hiperparametros, armar el modelo y evaluarlo. Usamos one hot encoding para poder usar los atributos que no sean numéricos continuos. Establecemos X e Y. Spliteamos en x train, y train, x test e y test el dataset. Hacemos el grid search para buscar mejores hiperparámetros (max depth, min samples split, criterion). Hacemos el árbol con estos parametros y lo usamos en el train. Vemos accuracy, precision, recall y matriz de confusión.\n",
    "\n",
    "(Aclaro por las dudas, no entendí si en este árbol también había que poner el gráfico, pero no se como hacerlo porque el grid search no guarda los parametros (creo), sino sólo los mejores)"
   ]
  },
  {
   "cell_type": "code",
   "execution_count": 56,
   "id": "1c770e5b",
   "metadata": {},
   "outputs": [
    {
     "name": "stdout",
     "output_type": "stream",
     "text": [
      "Fitting 5 folds for each of 200 candidates, totalling 1000 fits\n",
      "Mejor Accuracy en Grid Search: 0.7583\n",
      "Mejores Parametros en Grid Search: {'criterion': 'gini', 'max_depth': 7, 'min_samples_split': 5}\n",
      "Accuracy:  0.7111\n",
      "Precision: 0.6739\n",
      "Recall:    0.7381\n",
      "Matriz:\n",
      "[[33 15]\n",
      " [11 31]]\n"
     ]
    }
   ],
   "source": [
    "from sklearn.model_selection import train_test_split\n",
    "from sklearn.tree import DecisionTreeClassifier\n",
    "from sklearn.model_selection import GridSearchCV\n",
    "from sklearn.metrics import accuracy_score, precision_score, recall_score\n",
    "from sklearn.metrics import confusion_matrix\n",
    "\n",
    "dataset_encoded = pd.get_dummies(dataset, columns=[\"sex\", \"cp\", \"fbs\", \"restecg\", \"exang\", \"slope\", \"ca\", \"thal\"], dtype=int)\n",
    "\n",
    "X = dataset_encoded.drop(columns=['condition'])\n",
    "Y = dataset_encoded['condition']\n",
    "\n",
    "X_train, X_test, Y_train, Y_test = train_test_split(X, Y, test_size=0.3, random_state=42)\n",
    "\n",
    "param_grid = {\n",
    "    'max_depth': [1,2,3,4,5,6,7,8,9,10,11,12,13,14,15,16,17,18,19,20],\n",
    "    'min_samples_split': [2,5,10,15,20],\n",
    "    'criterion': ['gini','entropy']\n",
    "}\n",
    "\n",
    "grid_search = GridSearchCV(\n",
    "    estimator=DecisionTreeClassifier(random_state=32),\n",
    "    param_grid=param_grid,\n",
    "    scoring='accuracy',\n",
    "    cv=5,\n",
    "    n_jobs=-1,\n",
    "    verbose=1\n",
    ")\n",
    "\n",
    "grid_search.fit(X_train, Y_train)\n",
    "\n",
    "mejor_score = grid_search.best_score_\n",
    "mejores_parametros = grid_search.best_params_\n",
    "arbol_optimo = grid_search.best_estimator_\n",
    "\n",
    "print(f\"Mejor Accuracy en Grid Search: {mejor_score:.4f}\")\n",
    "print(f\"Mejores Parametros en Grid Search: {mejores_parametros}\")\n",
    "\n",
    "pred04 = arbol_optimo.predict(X_test)\n",
    "\n",
    "accuracy04 = accuracy_score(Y_test, pred04)\n",
    "precision04 = precision_score(Y_test, pred04, pos_label=1)\n",
    "recall04 = recall_score(Y_test, pred04, pos_label=1)\n",
    "matriz04 = confusion_matrix(Y_test, pred04)\n",
    "\n",
    "print(f\"Accuracy:  {accuracy04:.4f}\")\n",
    "print(f\"Precision: {precision04:.4f}\")\n",
    "print(f\"Recall:    {recall04:.4f}\")\n",
    "print(\"Matriz:\")\n",
    "print(matriz04)"
   ]
  }
 ],
 "metadata": {
  "kernelspec": {
   "display_name": "Python 3",
   "language": "python",
   "name": "python3"
  },
  "language_info": {
   "codemirror_mode": {
    "name": "ipython",
    "version": 3
   },
   "file_extension": ".py",
   "mimetype": "text/x-python",
   "name": "python",
   "nbconvert_exporter": "python",
   "pygments_lexer": "ipython3",
   "version": "3.12.5"
  }
 },
 "nbformat": 4,
 "nbformat_minor": 5
}
