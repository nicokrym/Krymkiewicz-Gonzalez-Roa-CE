{
 "cells": [
  {
   "cell_type": "markdown",
   "id": "94748fb4",
   "metadata": {},
   "source": [
    "# TP 01\n",
    "\n",
    "El dataset fue extraído del siguiente link: https://www.kaggle.com/datasets/cherngs/heart-disease-cleveland-uci"
   ]
  },
  {
   "cell_type": "markdown",
   "id": "97327e72",
   "metadata": {},
   "source": [
    "### Problema de Clasificación:\n",
    "El problema que tenemos con este dataset es saber si la persona en cuestión tiene o no una enfermedad cardíaca. Esto es de clasificación binaria ya que puede ser 0 (no tiene) o 1 (tiene)."
   ]
  }
 ],
 "metadata": {
  "language_info": {
   "name": "python"
  }
 },
 "nbformat": 4,
 "nbformat_minor": 5
}
